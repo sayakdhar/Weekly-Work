{
 "cells": [
  {
   "cell_type": "code",
   "execution_count": null,
   "metadata": {},
   "outputs": [],
   "source": [
    "import cv2\n",
    "face_model = cv2.CascadeClassifier(\"/root/Desktop/python/haarcascade_frontalface_default.xml\")\n",
    "cap = cv2.VideoCapture(0)\n",
    "\n",
    "while True:\n",
    "    ret , photo = cap.read()\n",
    "    coord = face_model.detectMultiScale(photo)\n",
    "    x1 = coord[0][0]\n",
    "    y1 = coord[0][1]\n",
    "    x2 = coord[0][0] + coord[0][2]\n",
    "    y2 = coord[0][1] + coord[0][3]\n",
    "    cv2.rectangle(photo, (x1,y1), (x2,y2), [255,0,0], 2)\n",
    "    cv2.imshow(\"hi\",photo)\n",
    "    if cv2.waitKey() == 13:\n",
    "        break\n",
    "cv2.destroyAllWindows()\n",
    "cap.release()"
   ]
  },
  {
   "cell_type": "code",
   "execution_count": null,
   "metadata": {},
   "outputs": [],
   "source": [
    "\n"
   ]
  },
  {
   "cell_type": "code",
   "execution_count": null,
   "metadata": {},
   "outputs": [],
   "source": [
    "cv2.rectangle(photo, (x1,y1), (x2,y2), [255,0,0], 2)"
   ]
  }
 ],
 "metadata": {
  "kernelspec": {
   "display_name": "Python 3",
   "language": "python",
   "name": "python3"
  },
  "language_info": {
   "codemirror_mode": {
    "name": "ipython",
    "version": 3
   },
   "file_extension": ".py",
   "mimetype": "text/x-python",
   "name": "python",
   "nbconvert_exporter": "python",
   "pygments_lexer": "ipython3",
   "version": "3.6.6"
  }
 },
 "nbformat": 4,
 "nbformat_minor": 2
}
