{
 "cells": [
  {
   "cell_type": "code",
   "execution_count": 1,
   "metadata": {},
   "outputs": [],
   "source": [
    "import cv2"
   ]
  },
  {
   "cell_type": "code",
   "execution_count": 2,
   "metadata": {},
   "outputs": [],
   "source": [
    "cap = cv2.VideoCapture(0)"
   ]
  },
  {
   "cell_type": "code",
   "execution_count": 3,
   "metadata": {},
   "outputs": [],
   "source": [
    "ret , photo = cap.read()"
   ]
  },
  {
   "cell_type": "code",
   "execution_count": 4,
   "metadata": {},
   "outputs": [
    {
     "data": {
      "text/plain": [
       "True"
      ]
     },
     "execution_count": 4,
     "metadata": {},
     "output_type": "execute_result"
    }
   ],
   "source": [
    "ret"
   ]
  },
  {
   "cell_type": "code",
   "execution_count": 5,
   "metadata": {},
   "outputs": [],
   "source": [
    "cv2.imshow('hi',photo)\n",
    "cv2.waitKey()\n",
    "cv2.destroyAllWindows()"
   ]
  },
  {
   "cell_type": "code",
   "execution_count": 6,
   "metadata": {},
   "outputs": [
    {
     "data": {
      "text/plain": [
       "array([[[ 53,  68, 107],\n",
       "        [ 53,  67, 109],\n",
       "        [ 53,  67, 109],\n",
       "        ...,\n",
       "        [100, 107, 140],\n",
       "        [ 98, 107, 140],\n",
       "        [ 98, 107, 141]],\n",
       "\n",
       "       [[ 54,  69, 108],\n",
       "        [ 54,  68, 110],\n",
       "        [ 53,  67, 109],\n",
       "        ...,\n",
       "        [ 98, 108, 138],\n",
       "        [ 95, 108, 140],\n",
       "        [ 95, 108, 140]],\n",
       "\n",
       "       [[ 53,  69, 111],\n",
       "        [ 53,  69, 111],\n",
       "        [ 52,  68, 111],\n",
       "        ...,\n",
       "        [ 93, 110, 137],\n",
       "        [ 91, 109, 138],\n",
       "        [ 91, 109, 138]],\n",
       "\n",
       "       ...,\n",
       "\n",
       "       [[ 14,  13, 123],\n",
       "        [ 14,  14, 122],\n",
       "        [ 14,  16, 116],\n",
       "        ...,\n",
       "        [ 20,  19,  69],\n",
       "        [ 20,  19,  69],\n",
       "        [ 20,  19,  69]],\n",
       "\n",
       "       [[ 13,  12, 122],\n",
       "        [ 13,  13, 121],\n",
       "        [ 13,  15, 117],\n",
       "        ...,\n",
       "        [ 22,  19,  69],\n",
       "        [ 22,  19,  69],\n",
       "        [ 22,  19,  69]],\n",
       "\n",
       "       [[ 12,  10, 123],\n",
       "        [ 12,  11, 121],\n",
       "        [ 13,  15, 117],\n",
       "        ...,\n",
       "        [ 22,  19,  68],\n",
       "        [ 22,  19,  68],\n",
       "        [ 22,  19,  68]]], dtype=uint8)"
      ]
     },
     "execution_count": 6,
     "metadata": {},
     "output_type": "execute_result"
    }
   ],
   "source": [
    "photo"
   ]
  },
  {
   "cell_type": "code",
   "execution_count": 7,
   "metadata": {},
   "outputs": [],
   "source": [
    "newphoto = photo[100:300 , 200:400]"
   ]
  },
  {
   "cell_type": "code",
   "execution_count": 8,
   "metadata": {},
   "outputs": [
    {
     "data": {
      "text/plain": [
       "(200, 200, 3)"
      ]
     },
     "execution_count": 8,
     "metadata": {},
     "output_type": "execute_result"
    }
   ],
   "source": [
    "newphoto.shape"
   ]
  },
  {
   "cell_type": "code",
   "execution_count": 9,
   "metadata": {},
   "outputs": [],
   "source": [
    "photo[0:200 , 0:200]=newphoto"
   ]
  },
  {
   "cell_type": "code",
   "execution_count": null,
   "metadata": {},
   "outputs": [],
   "source": [
    "cv2.imshow('hi',photo)\n",
    "cv2.waitKey()\n",
    "cv2.destroyAllWindows()"
   ]
  },
  {
   "cell_type": "code",
   "execution_count": null,
   "metadata": {},
   "outputs": [],
   "source": [
    "cap.release()"
   ]
  },
  {
   "cell_type": "code",
   "execution_count": null,
   "metadata": {},
   "outputs": [],
   "source": []
  }
 ],
 "metadata": {
  "kernelspec": {
   "display_name": "Python 3",
   "language": "python",
   "name": "python3"
  },
  "language_info": {
   "codemirror_mode": {
    "name": "ipython",
    "version": 3
   },
   "file_extension": ".py",
   "mimetype": "text/x-python",
   "name": "python",
   "nbconvert_exporter": "python",
   "pygments_lexer": "ipython3",
   "version": "3.6.6"
  }
 },
 "nbformat": 4,
 "nbformat_minor": 2
}
