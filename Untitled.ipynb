{
 "cells": [
  {
   "cell_type": "code",
   "execution_count": 1,
   "metadata": {},
   "outputs": [],
   "source": [
    "import cv2"
   ]
  },
  {
   "cell_type": "code",
   "execution_count": 2,
   "metadata": {},
   "outputs": [],
   "source": [
    "cap = cv2.VideoCapture(0)"
   ]
  },
  {
   "cell_type": "code",
   "execution_count": 3,
   "metadata": {},
   "outputs": [],
   "source": [
    "ret , photo=cap.read()"
   ]
  },
  {
   "cell_type": "code",
   "execution_count": 4,
   "metadata": {},
   "outputs": [
    {
     "data": {
      "text/plain": [
       "True"
      ]
     },
     "execution_count": 4,
     "metadata": {},
     "output_type": "execute_result"
    }
   ],
   "source": [
    "ret"
   ]
  },
  {
   "cell_type": "code",
   "execution_count": 5,
   "metadata": {},
   "outputs": [],
   "source": [
    "cap.release()"
   ]
  },
  {
   "cell_type": "code",
   "execution_count": 6,
   "metadata": {},
   "outputs": [
    {
     "data": {
      "text/plain": [
       "(480, 640, 3)"
      ]
     },
     "execution_count": 6,
     "metadata": {},
     "output_type": "execute_result"
    }
   ],
   "source": [
    "photo.shape"
   ]
  },
  {
   "cell_type": "code",
   "execution_count": 7,
   "metadata": {},
   "outputs": [
    {
     "data": {
      "text/plain": [
       "array([[[106,  93,  41],\n",
       "        [101,  90,  40],\n",
       "        [ 93,  87,  42],\n",
       "        ...,\n",
       "        [109,  87,  76],\n",
       "        [108,  87,  79],\n",
       "        [109,  88,  80]],\n",
       "\n",
       "       [[106,  92,  43],\n",
       "        [101,  89,  41],\n",
       "        [ 92,  86,  41],\n",
       "        ...,\n",
       "        [106,  88,  77],\n",
       "        [106,  89,  80],\n",
       "        [107,  90,  81]],\n",
       "\n",
       "       [[105,  91,  43],\n",
       "        [100,  87,  41],\n",
       "        [ 91,  84,  41],\n",
       "        ...,\n",
       "        [104,  90,  78],\n",
       "        [101,  91,  81],\n",
       "        [102,  92,  82]],\n",
       "\n",
       "       ...,\n",
       "\n",
       "       [[ 41,  34, 107],\n",
       "        [ 39,  34, 109],\n",
       "        [ 33,  34, 108],\n",
       "        ...,\n",
       "        [ 58,  41, 115],\n",
       "        [ 61,  35, 113],\n",
       "        [ 62,  31, 110]],\n",
       "\n",
       "       [[ 48,  37, 109],\n",
       "        [ 45,  36, 109],\n",
       "        [ 38,  35, 107],\n",
       "        ...,\n",
       "        [ 67,  39, 122],\n",
       "        [ 72,  35, 121],\n",
       "        [ 73,  31, 118]],\n",
       "\n",
       "       [[ 50,  39, 107],\n",
       "        [ 48,  38, 108],\n",
       "        [ 39,  37, 107],\n",
       "        ...,\n",
       "        [ 74,  40, 127],\n",
       "        [ 79,  36, 127],\n",
       "        [ 80,  33, 125]]], dtype=uint8)"
      ]
     },
     "execution_count": 7,
     "metadata": {},
     "output_type": "execute_result"
    }
   ],
   "source": [
    "photo"
   ]
  },
  {
   "cell_type": "code",
   "execution_count": 9,
   "metadata": {},
   "outputs": [],
   "source": [
    "B ,G ,R = cv2.split(photo)"
   ]
  },
  {
   "cell_type": "code",
   "execution_count": 11,
   "metadata": {},
   "outputs": [
    {
     "data": {
      "text/plain": [
       "(480, 640)"
      ]
     },
     "execution_count": 11,
     "metadata": {},
     "output_type": "execute_result"
    }
   ],
   "source": [
    "R.shape"
   ]
  },
  {
   "cell_type": "code",
   "execution_count": null,
   "metadata": {},
   "outputs": [],
   "source": []
  }
 ],
 "metadata": {
  "kernelspec": {
   "display_name": "Python 3",
   "language": "python",
   "name": "python3"
  },
  "language_info": {
   "codemirror_mode": {
    "name": "ipython",
    "version": 3
   },
   "file_extension": ".py",
   "mimetype": "text/x-python",
   "name": "python",
   "nbconvert_exporter": "python",
   "pygments_lexer": "ipython3",
   "version": "3.6.6"
  }
 },
 "nbformat": 4,
 "nbformat_minor": 2
}
